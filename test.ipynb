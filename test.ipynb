{
 "cells": [
  {
   "cell_type": "code",
   "execution_count": 1,
   "metadata": {
    "collapsed": true,
    "pycharm": {
     "is_executing": false
    }
   },
   "outputs": [],
   "source": [
    "import numpy as np\n",
    "import pandas as pd\n",
    "from datetime import datetime\n",
    "from dateutil.parser import parse\n",
    "import matplotlib.pyplot as plt\n",
    "\n",
    "thispath = '/Users/zhangchi/富国实习/组合优化/组合优化数据1118'"
   ]
  },
  {
   "cell_type": "code",
   "execution_count": 2,
   "outputs": [
    {
     "data": {
      "text/plain": "1"
     },
     "metadata": {},
     "output_type": "execute_result",
     "execution_count": 2
    }
   ],
   "source": [
    "mu = pd.read_csv(thispath+'/最终结果/2018-01-31.csv', index_col=[0])\n",
    "mu = 0.01*mu\n",
    "mu.index.values.tolist().index('000157.SZ')"
   ],
   "metadata": {
    "collapsed": false,
    "pycharm": {
     "name": "#%%\n",
     "is_executing": false
    }
   }
  },
  {
   "cell_type": "code",
   "execution_count": 3,
   "outputs": [
    {
     "data": {
      "text/plain": "datetime.datetime(2018, 1, 31, 0, 0)"
     },
     "metadata": {},
     "output_type": "execute_result",
     "execution_count": 3
    }
   ],
   "source": [
    "date = parse(mu.columns[0])\n",
    "date"
   ],
   "metadata": {
    "collapsed": false,
    "pycharm": {
     "name": "#%%\n",
     "is_executing": false
    }
   }
  },
  {
   "cell_type": "code",
   "execution_count": 77,
   "outputs": [
    {
     "data": {
      "text/plain": "str"
     },
     "metadata": {},
     "output_type": "execute_result",
     "execution_count": 77
    }
   ],
   "source": [
    "date = datetime.strftime(date, '%Y-%m-%d')\n",
    "date\n",
    "type(mu.columns[0])"
   ],
   "metadata": {
    "collapsed": false,
    "pycharm": {
     "name": "#%%\n",
     "is_executing": false
    }
   }
  },
  {
   "cell_type": "code",
   "execution_count": 4,
   "outputs": [
    {
     "data": {
      "text/plain": "                      2018/01/31  0:00:00\n2018-01-31 600177.SH             0.010661\n           000157.SZ             0.010624\n           002415.SZ             0.010546\n           600887.SH             0.010486\n           002191.SZ             0.010441\n...                                   ...\n           601360.SH            -0.023308\n           300708.SZ            -0.023550\n           300487.SZ            -0.023627\n           002908.SZ            -0.023777\n           002856.SZ            -0.026124\n\n[3533 rows x 1 columns]",
      "text/html": "<div>\n<style scoped>\n    .dataframe tbody tr th:only-of-type {\n        vertical-align: middle;\n    }\n\n    .dataframe tbody tr th {\n        vertical-align: top;\n    }\n\n    .dataframe thead th {\n        text-align: right;\n    }\n</style>\n<table border=\"1\" class=\"dataframe\">\n  <thead>\n    <tr style=\"text-align: right;\">\n      <th></th>\n      <th></th>\n      <th>2018/01/31  0:00:00</th>\n    </tr>\n  </thead>\n  <tbody>\n    <tr>\n      <th rowspan=\"11\" valign=\"top\">2018-01-31</th>\n      <th>600177.SH</th>\n      <td>0.010661</td>\n    </tr>\n    <tr>\n      <th>000157.SZ</th>\n      <td>0.010624</td>\n    </tr>\n    <tr>\n      <th>002415.SZ</th>\n      <td>0.010546</td>\n    </tr>\n    <tr>\n      <th>600887.SH</th>\n      <td>0.010486</td>\n    </tr>\n    <tr>\n      <th>002191.SZ</th>\n      <td>0.010441</td>\n    </tr>\n    <tr>\n      <th>...</th>\n      <td>...</td>\n    </tr>\n    <tr>\n      <th>601360.SH</th>\n      <td>-0.023308</td>\n    </tr>\n    <tr>\n      <th>300708.SZ</th>\n      <td>-0.023550</td>\n    </tr>\n    <tr>\n      <th>300487.SZ</th>\n      <td>-0.023627</td>\n    </tr>\n    <tr>\n      <th>002908.SZ</th>\n      <td>-0.023777</td>\n    </tr>\n    <tr>\n      <th>002856.SZ</th>\n      <td>-0.026124</td>\n    </tr>\n  </tbody>\n</table>\n<p>3533 rows × 1 columns</p>\n</div>"
     },
     "metadata": {},
     "output_type": "execute_result",
     "execution_count": 4
    }
   ],
   "source": [
    "date_idx = [date]*3533\n",
    "# for i in range(3533):\n",
    "#     date_idx.append(date)\n",
    "mu.index = [pd.to_datetime(date_idx), mu.index]\n",
    "mu"
   ],
   "metadata": {
    "collapsed": false,
    "pycharm": {
     "name": "#%%\n",
     "is_executing": false
    }
   }
  },
  {
   "cell_type": "code",
   "execution_count": 6,
   "outputs": [
    {
     "data": {
      "text/plain": "                   代码        权重\n2010-01-29  600246.SH  0.000900\n2010-01-29  600251.SH  0.000900\n2010-01-29  600256.SH  0.002399\n2010-01-29  600266.SH  0.001099\n2010-01-29  600269.SH  0.001899\n...               ...       ...\n2019-10-31  601577.SH  0.000263\n2019-10-31  601162.SH  0.000251\n2019-10-31  601212.SH  0.000242\n2019-10-31  600299.SH  0.000237\n2019-10-31  600733.SH  0.000184\n\n[35400 rows x 2 columns]",
      "text/html": "<div>\n<style scoped>\n    .dataframe tbody tr th:only-of-type {\n        vertical-align: middle;\n    }\n\n    .dataframe tbody tr th {\n        vertical-align: top;\n    }\n\n    .dataframe thead th {\n        text-align: right;\n    }\n</style>\n<table border=\"1\" class=\"dataframe\">\n  <thead>\n    <tr style=\"text-align: right;\">\n      <th></th>\n      <th>代码</th>\n      <th>权重</th>\n    </tr>\n  </thead>\n  <tbody>\n    <tr>\n      <th>2010-01-29</th>\n      <td>600246.SH</td>\n      <td>0.000900</td>\n    </tr>\n    <tr>\n      <th>2010-01-29</th>\n      <td>600251.SH</td>\n      <td>0.000900</td>\n    </tr>\n    <tr>\n      <th>2010-01-29</th>\n      <td>600256.SH</td>\n      <td>0.002399</td>\n    </tr>\n    <tr>\n      <th>2010-01-29</th>\n      <td>600266.SH</td>\n      <td>0.001099</td>\n    </tr>\n    <tr>\n      <th>2010-01-29</th>\n      <td>600269.SH</td>\n      <td>0.001899</td>\n    </tr>\n    <tr>\n      <th>...</th>\n      <td>...</td>\n      <td>...</td>\n    </tr>\n    <tr>\n      <th>2019-10-31</th>\n      <td>601577.SH</td>\n      <td>0.000263</td>\n    </tr>\n    <tr>\n      <th>2019-10-31</th>\n      <td>601162.SH</td>\n      <td>0.000251</td>\n    </tr>\n    <tr>\n      <th>2019-10-31</th>\n      <td>601212.SH</td>\n      <td>0.000242</td>\n    </tr>\n    <tr>\n      <th>2019-10-31</th>\n      <td>600299.SH</td>\n      <td>0.000237</td>\n    </tr>\n    <tr>\n      <th>2019-10-31</th>\n      <td>600733.SH</td>\n      <td>0.000184</td>\n    </tr>\n  </tbody>\n</table>\n<p>35400 rows × 2 columns</p>\n</div>"
     },
     "metadata": {},
     "output_type": "execute_result",
     "execution_count": 6
    }
   ],
   "source": [
    "weight = pd.read_csv(thispath+'/HS300成分权重.csv', index_col=[0])\n",
    "weight.index = pd.to_datetime(weight.index.values)\n",
    "weight"
   ],
   "metadata": {
    "collapsed": false,
    "pycharm": {
     "name": "#%%\n",
     "is_executing": false
    }
   }
  },
  {
   "cell_type": "code",
   "execution_count": 7,
   "outputs": [
    {
     "data": {
      "text/plain": "                            权重\n           代码                 \n2010-01-29 600246.SH  0.000900\n           600251.SH  0.000900\n           600256.SH  0.002399\n           600266.SH  0.001099\n           600269.SH  0.001899\n...                        ...\n2019-10-31 601577.SH  0.000263\n           601162.SH  0.000251\n           601212.SH  0.000242\n           600299.SH  0.000237\n           600733.SH  0.000184\n\n[35400 rows x 1 columns]",
      "text/html": "<div>\n<style scoped>\n    .dataframe tbody tr th:only-of-type {\n        vertical-align: middle;\n    }\n\n    .dataframe tbody tr th {\n        vertical-align: top;\n    }\n\n    .dataframe thead th {\n        text-align: right;\n    }\n</style>\n<table border=\"1\" class=\"dataframe\">\n  <thead>\n    <tr style=\"text-align: right;\">\n      <th></th>\n      <th></th>\n      <th>权重</th>\n    </tr>\n    <tr>\n      <th></th>\n      <th>代码</th>\n      <th></th>\n    </tr>\n  </thead>\n  <tbody>\n    <tr>\n      <th rowspan=\"5\" valign=\"top\">2010-01-29</th>\n      <th>600246.SH</th>\n      <td>0.000900</td>\n    </tr>\n    <tr>\n      <th>600251.SH</th>\n      <td>0.000900</td>\n    </tr>\n    <tr>\n      <th>600256.SH</th>\n      <td>0.002399</td>\n    </tr>\n    <tr>\n      <th>600266.SH</th>\n      <td>0.001099</td>\n    </tr>\n    <tr>\n      <th>600269.SH</th>\n      <td>0.001899</td>\n    </tr>\n    <tr>\n      <th>...</th>\n      <th>...</th>\n      <td>...</td>\n    </tr>\n    <tr>\n      <th rowspan=\"5\" valign=\"top\">2019-10-31</th>\n      <th>601577.SH</th>\n      <td>0.000263</td>\n    </tr>\n    <tr>\n      <th>601162.SH</th>\n      <td>0.000251</td>\n    </tr>\n    <tr>\n      <th>601212.SH</th>\n      <td>0.000242</td>\n    </tr>\n    <tr>\n      <th>600299.SH</th>\n      <td>0.000237</td>\n    </tr>\n    <tr>\n      <th>600733.SH</th>\n      <td>0.000184</td>\n    </tr>\n  </tbody>\n</table>\n<p>35400 rows × 1 columns</p>\n</div>"
     },
     "metadata": {},
     "output_type": "execute_result",
     "execution_count": 7
    }
   ],
   "source": [
    "index2 = weight['代码']\n",
    "weight.drop('代码', axis=1, inplace=True)\n",
    "weight.index = [weight.index, index2]\n",
    "weight"
   ],
   "metadata": {
    "collapsed": false,
    "pycharm": {
     "name": "#%%\n",
     "is_executing": false
    }
   }
  },
  {
   "cell_type": "code",
   "execution_count": 8,
   "outputs": [
    {
     "name": "stderr",
     "text": [
      "/Library/Frameworks/Python.framework/Versions/3.7/lib/python3.7/site-packages/ipykernel_launcher.py:17: FutureWarning: The join_axes-keyword is deprecated. Use .reindex or .reindex_like on the result to achieve the same functionality.\n",
      "/Users/zhangchi/PycharmProjects/portfolio_opt2/optimizer.py:53: FutureWarning: The join_axes-keyword is deprecated. Use .reindex or .reindex_like on the result to achieve the same functionality.\n  data = pd.concat([data, price, state, listlen, ST, zhandie], join_axes=[data.index],axis=1)\n"
     ],
     "output_type": "stream"
    },
    {
     "data": {
      "text/plain": "                          指数权重      预期收益          流通市值     行业   基准指数权重  \\\ndate       stcode                                                        \n2018-01-31 000001.SZ  0.009701 -0.006222  2.376978e+07     银行  0.00970   \n           000002.SZ  0.014681  0.007157  3.646762e+07    房地产  0.01468   \n           000060.SZ  0.001610 -0.000831  2.653307e+06   有色金属  0.00161   \n           000063.SZ  0.005950 -0.004101  1.068061e+07     通信  0.00595   \n           000069.SZ  0.002730  0.002436  6.362424e+06    房地产  0.00273   \n...                        ...       ...           ...    ...      ...   \n           603160.SH  0.000310 -0.002506  1.949678e+06  电子元器件  0.00031   \n           603799.SH  0.002380 -0.006211  5.856294e+06   有色金属  0.00238   \n           603833.SH  0.000480 -0.003650  5.933439e+05   轻工制造  0.00048   \n           603993.SH  0.001610 -0.002025  9.793020e+06   有色金属  0.00161   \n           603858.SH  0.000300 -0.000256  1.617866e+06     医药  0.00030   \n\n                            月末收盘价  state    上市天数 特殊处理  涨跌停  \ndate       stcode                                           \n2018-01-31 000001.SZ  1493.638682    1.0  9801.0    1  0.0  \n           000002.SZ  5156.990066    1.0  9865.0    1  0.0  \n           000060.SZ   283.962336    1.0  7679.0    1  0.0  \n           000063.SZ   491.306222    1.0  7380.0    1  0.0  \n           000069.SZ   383.324711    1.0  7449.0    1  0.0  \n...                           ...    ...     ...  ...  ...  \n           603160.SH    85.246562    1.0   472.0    1  0.0  \n           603799.SH   100.640600    1.0  1099.0    1  0.0  \n           603833.SH   142.940000    1.0   310.0    1  0.0  \n           603993.SH    24.402145    1.0  1941.0    1  0.0  \n           603858.SH    50.527984    1.0   440.0    1  0.0  \n\n[299 rows x 10 columns]",
      "text/html": "<div>\n<style scoped>\n    .dataframe tbody tr th:only-of-type {\n        vertical-align: middle;\n    }\n\n    .dataframe tbody tr th {\n        vertical-align: top;\n    }\n\n    .dataframe thead th {\n        text-align: right;\n    }\n</style>\n<table border=\"1\" class=\"dataframe\">\n  <thead>\n    <tr style=\"text-align: right;\">\n      <th></th>\n      <th></th>\n      <th>指数权重</th>\n      <th>预期收益</th>\n      <th>流通市值</th>\n      <th>行业</th>\n      <th>基准指数权重</th>\n      <th>月末收盘价</th>\n      <th>state</th>\n      <th>上市天数</th>\n      <th>特殊处理</th>\n      <th>涨跌停</th>\n    </tr>\n    <tr>\n      <th>date</th>\n      <th>stcode</th>\n      <th></th>\n      <th></th>\n      <th></th>\n      <th></th>\n      <th></th>\n      <th></th>\n      <th></th>\n      <th></th>\n      <th></th>\n      <th></th>\n    </tr>\n  </thead>\n  <tbody>\n    <tr>\n      <th rowspan=\"11\" valign=\"top\">2018-01-31</th>\n      <th>000001.SZ</th>\n      <td>0.009701</td>\n      <td>-0.006222</td>\n      <td>2.376978e+07</td>\n      <td>银行</td>\n      <td>0.00970</td>\n      <td>1493.638682</td>\n      <td>1.0</td>\n      <td>9801.0</td>\n      <td>1</td>\n      <td>0.0</td>\n    </tr>\n    <tr>\n      <th>000002.SZ</th>\n      <td>0.014681</td>\n      <td>0.007157</td>\n      <td>3.646762e+07</td>\n      <td>房地产</td>\n      <td>0.01468</td>\n      <td>5156.990066</td>\n      <td>1.0</td>\n      <td>9865.0</td>\n      <td>1</td>\n      <td>0.0</td>\n    </tr>\n    <tr>\n      <th>000060.SZ</th>\n      <td>0.001610</td>\n      <td>-0.000831</td>\n      <td>2.653307e+06</td>\n      <td>有色金属</td>\n      <td>0.00161</td>\n      <td>283.962336</td>\n      <td>1.0</td>\n      <td>7679.0</td>\n      <td>1</td>\n      <td>0.0</td>\n    </tr>\n    <tr>\n      <th>000063.SZ</th>\n      <td>0.005950</td>\n      <td>-0.004101</td>\n      <td>1.068061e+07</td>\n      <td>通信</td>\n      <td>0.00595</td>\n      <td>491.306222</td>\n      <td>1.0</td>\n      <td>7380.0</td>\n      <td>1</td>\n      <td>0.0</td>\n    </tr>\n    <tr>\n      <th>000069.SZ</th>\n      <td>0.002730</td>\n      <td>0.002436</td>\n      <td>6.362424e+06</td>\n      <td>房地产</td>\n      <td>0.00273</td>\n      <td>383.324711</td>\n      <td>1.0</td>\n      <td>7449.0</td>\n      <td>1</td>\n      <td>0.0</td>\n    </tr>\n    <tr>\n      <th>...</th>\n      <td>...</td>\n      <td>...</td>\n      <td>...</td>\n      <td>...</td>\n      <td>...</td>\n      <td>...</td>\n      <td>...</td>\n      <td>...</td>\n      <td>...</td>\n      <td>...</td>\n    </tr>\n    <tr>\n      <th>603160.SH</th>\n      <td>0.000310</td>\n      <td>-0.002506</td>\n      <td>1.949678e+06</td>\n      <td>电子元器件</td>\n      <td>0.00031</td>\n      <td>85.246562</td>\n      <td>1.0</td>\n      <td>472.0</td>\n      <td>1</td>\n      <td>0.0</td>\n    </tr>\n    <tr>\n      <th>603799.SH</th>\n      <td>0.002380</td>\n      <td>-0.006211</td>\n      <td>5.856294e+06</td>\n      <td>有色金属</td>\n      <td>0.00238</td>\n      <td>100.640600</td>\n      <td>1.0</td>\n      <td>1099.0</td>\n      <td>1</td>\n      <td>0.0</td>\n    </tr>\n    <tr>\n      <th>603833.SH</th>\n      <td>0.000480</td>\n      <td>-0.003650</td>\n      <td>5.933439e+05</td>\n      <td>轻工制造</td>\n      <td>0.00048</td>\n      <td>142.940000</td>\n      <td>1.0</td>\n      <td>310.0</td>\n      <td>1</td>\n      <td>0.0</td>\n    </tr>\n    <tr>\n      <th>603993.SH</th>\n      <td>0.001610</td>\n      <td>-0.002025</td>\n      <td>9.793020e+06</td>\n      <td>有色金属</td>\n      <td>0.00161</td>\n      <td>24.402145</td>\n      <td>1.0</td>\n      <td>1941.0</td>\n      <td>1</td>\n      <td>0.0</td>\n    </tr>\n    <tr>\n      <th>603858.SH</th>\n      <td>0.000300</td>\n      <td>-0.000256</td>\n      <td>1.617866e+06</td>\n      <td>医药</td>\n      <td>0.00030</td>\n      <td>50.527984</td>\n      <td>1.0</td>\n      <td>440.0</td>\n      <td>1</td>\n      <td>0.0</td>\n    </tr>\n  </tbody>\n</table>\n<p>299 rows × 10 columns</p>\n</div>"
     },
     "metadata": {},
     "output_type": "execute_result",
     "execution_count": 8
    }
   ],
   "source": [
    "from optimizer import *\n",
    "stockPool = weight\n",
    "\n",
    "# 3.市值\n",
    "size = pd.read_csv(inpath + '/流通市值.csv', index_col=[0])\n",
    "size = change_format(size)\n",
    "\n",
    "# 4、中信一级行业\n",
    "industry = pd.read_csv(inpath + '/中信一级行业.csv', index_col=[0], encoding='gbk')\n",
    "industry = change_format(industry)\n",
    "\n",
    "# 5、基准指数\n",
    "# base_weight = pd.read_csv(inpath + '/中证500成份权重.csv', index_col=[0])\n",
    "base_weight = pd.read_csv(inpath + '/沪深300成份权重.csv', index_col=[0])\n",
    "base_weight = change_format(base_weight).fillna(0)\n",
    "\n",
    "stock_data = pd.concat([stockPool, mu, size, industry, base_weight], join_axes=[stockPool.index], axis=1)\n",
    "stock_data.columns = ['指数权重', '预期收益', '流通市值', '行业', '基准指数权重']\n",
    "\n",
    "# 加入交易条件限制，即剔除不满足条件的股票\n",
    "stock_data = filter_data(stock_data)\n",
    "stock_data"
   ],
   "metadata": {
    "collapsed": false,
    "pycharm": {
     "name": "#%%\n",
     "is_executing": false
    }
   }
  },
  {
   "cell_type": "code",
   "execution_count": 1,
   "outputs": [
    {
     "traceback": [
      "\u001b[0;31m---------------------------------------------------------------------------\u001b[0m",
      "\u001b[0;31mNameError\u001b[0m                                 Traceback (most recent call last)",
      "\u001b[0;32m<ipython-input-1-5faceea2cd42>\u001b[0m in \u001b[0;36m<module>\u001b[0;34m\u001b[0m\n\u001b[0;32m----> 1\u001b[0;31m \u001b[0mstock_data_M\u001b[0m \u001b[0;34m=\u001b[0m \u001b[0mstock_data\u001b[0m\u001b[0;34m.\u001b[0m\u001b[0mloc\u001b[0m\u001b[0;34m[\u001b[0m\u001b[0;34m'2018-01'\u001b[0m\u001b[0;34m]\u001b[0m\u001b[0;34m\u001b[0m\u001b[0;34m\u001b[0m\u001b[0m\n\u001b[0m\u001b[1;32m      2\u001b[0m \u001b[0me_ret\u001b[0m \u001b[0;34m=\u001b[0m \u001b[0mstock_data_M\u001b[0m\u001b[0;34m[\u001b[0m\u001b[0;34m'预期收益'\u001b[0m\u001b[0;34m]\u001b[0m\u001b[0;34m.\u001b[0m\u001b[0mvalues\u001b[0m\u001b[0;34m.\u001b[0m\u001b[0mtolist\u001b[0m\u001b[0;34m(\u001b[0m\u001b[0;34m)\u001b[0m\u001b[0;34m\u001b[0m\u001b[0;34m\u001b[0m\u001b[0m\n\u001b[1;32m      3\u001b[0m \u001b[0midtry\u001b[0m \u001b[0;34m=\u001b[0m \u001b[0mpd\u001b[0m\u001b[0;34m.\u001b[0m\u001b[0mget_dummies\u001b[0m\u001b[0;34m(\u001b[0m\u001b[0mstock_data_M\u001b[0m\u001b[0;34m[\u001b[0m\u001b[0;34m'行业'\u001b[0m\u001b[0;34m]\u001b[0m\u001b[0;34m)\u001b[0m\u001b[0;34m.\u001b[0m\u001b[0mvalues\u001b[0m\u001b[0;34m.\u001b[0m\u001b[0mtolist\u001b[0m\u001b[0;34m(\u001b[0m\u001b[0;34m)\u001b[0m\u001b[0;34m\u001b[0m\u001b[0;34m\u001b[0m\u001b[0m\n\u001b[1;32m      4\u001b[0m \u001b[0mcap\u001b[0m \u001b[0;34m=\u001b[0m \u001b[0mstock_data_M\u001b[0m\u001b[0;34m[\u001b[0m\u001b[0;34m'市值'\u001b[0m\u001b[0;34m]\u001b[0m\u001b[0;34m.\u001b[0m\u001b[0mvalues\u001b[0m\u001b[0;34m.\u001b[0m\u001b[0mtolist\u001b[0m\u001b[0;34m(\u001b[0m\u001b[0;34m)\u001b[0m\u001b[0;34m\u001b[0m\u001b[0;34m\u001b[0m\u001b[0m\n\u001b[1;32m      5\u001b[0m \u001b[0mwb\u001b[0m \u001b[0;34m=\u001b[0m \u001b[0mstock_data_M\u001b[0m\u001b[0;34m[\u001b[0m\u001b[0;34m'基准指数权重'\u001b[0m\u001b[0;34m]\u001b[0m\u001b[0;34m.\u001b[0m\u001b[0mvalues\u001b[0m\u001b[0;34m.\u001b[0m\u001b[0mtolist\u001b[0m\u001b[0;34m(\u001b[0m\u001b[0;34m)\u001b[0m\u001b[0;34m\u001b[0m\u001b[0;34m\u001b[0m\u001b[0m\n",
      "\u001b[0;31mNameError\u001b[0m: name 'stock_data' is not defined"
     ],
     "ename": "NameError",
     "evalue": "name 'stock_data' is not defined",
     "output_type": "error"
    }
   ],
   "source": [
    "stock_data_M = stock_data.loc['2018-01']\n",
    "e_ret = stock_data_M['预期收益'].values.tolist()\n",
    "idtry = pd.get_dummies(stock_data_M['行业']).values.tolist()\n",
    "cap = stock_data_M['市值'].values.tolist()\n",
    "wb = stock_data_M['基准指数权重'].values.tolist()\n"
   ],
   "metadata": {
    "collapsed": false,
    "pycharm": {
     "name": "#%%\n",
     "is_executing": false
    }
   }
  },
  {
   "cell_type": "code",
   "execution_count": 5,
   "outputs": [
    {
     "data": {
      "text/plain": "array([[0.5262271 , 0.53226451, 0.96882542, ..., 0.67470188, 0.73672262,\n        0.22414285],\n       [0.11752955, 0.59610483, 0.80457238, ..., 0.16157252, 0.20302534,\n        0.72925671],\n       [0.36373617, 0.07682214, 0.74407567, ..., 0.66079763, 0.28304612,\n        0.50183159],\n       ...,\n       [0.39227704, 0.02514191, 0.82117727, ..., 0.12287901, 0.72550519,\n        0.49705435],\n       [0.9438384 , 0.8859287 , 0.33722542, ..., 0.72112652, 0.4161298 ,\n        0.38334435],\n       [0.39222205, 0.79875263, 0.42833563, ..., 0.54428299, 0.20008951,\n        0.86399909]])"
     },
     "metadata": {},
     "output_type": "execute_result",
     "execution_count": 5
    }
   ],
   "source": [
    "rand_mat = np.random.rand(22,50)\n",
    "rand_mat"
   ],
   "metadata": {
    "collapsed": false,
    "pycharm": {
     "name": "#%%\n",
     "is_executing": false
    }
   }
  },
  {
   "cell_type": "code",
   "execution_count": 12,
   "outputs": [
    {
     "data": {
      "text/plain": "(array([2.21754324, 2.13259871, 1.79716504, 0.13299337, 0.20176143,\n        0.31898469, 0.35433118, 0.37451719, 0.47029649, 0.54072959,\n        0.59005553, 0.73749404, 0.81399154, 0.92159393, 0.99418132,\n        1.04119256, 1.56423941, 1.44017713, 1.46444492, 1.45221756,\n        1.19446434, 1.24502679]),\n array([[-4.04760303e-01, -1.15012218e-01,  1.19705548e-01,\n          1.95296966e-01,  1.56460752e-01,  3.54726172e-01,\n         -2.67936113e-01, -5.66099242e-02,  1.33110709e-01,\n          2.75710725e-01, -3.86614733e-02, -7.02034486e-02,\n          1.73760307e-01, -4.01964563e-01,  3.95419357e-01,\n          1.82321122e-01, -1.09286101e-01,  1.18048850e-01,\n          3.36721043e-02,  1.08492526e-01,  5.52376016e-03,\n         -1.57569824e-01],\n        [-3.94284263e-02,  4.07685954e-02,  3.10254937e-01,\n          4.69538279e-02,  3.96421232e-01, -3.33837819e-02,\n          2.86803030e-01, -9.21533218e-02, -1.14397766e-01,\n          3.31827322e-03, -2.08328899e-02,  1.48518759e-01,\n         -2.14783377e-01, -3.13486390e-01,  8.59097155e-02,\n         -7.32496432e-02,  1.42750684e-01, -7.09591454e-02,\n         -2.87476554e-01, -1.38558991e-01, -3.56598510e-01,\n          4.49610871e-01],\n        [ 1.19154516e-01, -5.85286951e-02,  2.08685743e-01,\n         -1.28430478e-01, -3.03314799e-02,  5.58236025e-02,\n          3.71860179e-01, -7.66731414e-02,  2.92741108e-01,\n         -4.49077952e-02, -2.37260597e-01, -3.97098352e-01,\n          1.27835047e-01, -1.27630872e-01, -1.16406748e-01,\n          2.25031869e-01, -3.79982672e-01, -1.87086579e-01,\n         -2.27324540e-01, -2.66385765e-01,  2.69182515e-01,\n         -3.37207965e-02],\n        [ 9.14069033e-02, -4.11740711e-03,  4.20658263e-01,\n         -1.17409839e-02, -1.79779173e-01, -3.73016447e-01,\n         -3.85261208e-01,  5.05534314e-02,  1.59674328e-01,\n          2.89006836e-02, -1.85413431e-01, -4.44351732e-03,\n         -7.00329490e-02, -2.58129019e-01, -3.26426046e-01,\n          1.30593172e-01, -8.28759509e-02, -1.05432944e-01,\n          1.05756760e-01,  4.21866966e-01, -1.15377595e-01,\n          1.25568360e-01],\n        [-5.45520729e-02,  4.10312130e-01,  2.31149357e-02,\n         -1.31329814e-01,  3.55177447e-01, -2.60684707e-01,\n          1.22726462e-01, -1.90883875e-01, -3.25389200e-01,\n         -6.45223031e-02,  2.34122299e-01,  5.60460185e-02,\n          1.61075864e-01, -6.49126085e-03, -7.87935063e-02,\n          4.16293996e-01, -2.08575489e-01,  2.02924047e-01,\n         -3.88465517e-02,  2.17030279e-01,  7.31312531e-02,\n         -2.30535483e-01],\n        [-5.78136375e-02, -4.94359309e-01, -2.61040165e-03,\n          1.98223254e-01,  3.70096803e-01, -6.69885428e-02,\n         -3.51364053e-02, -1.33261335e-01,  2.00013300e-01,\n         -4.99775272e-01,  3.18469906e-01, -8.80058376e-02,\n         -3.85967558e-02,  5.63727833e-02, -1.16929545e-01,\n         -1.65566710e-01, -2.61258247e-01,  7.69266628e-02,\n          1.46260758e-01,  1.08746602e-01, -1.97097047e-02,\n          5.79923187e-03],\n        [-2.61766753e-01,  2.27846195e-01,  1.62445243e-01,\n          1.00471259e-01, -3.03706814e-01, -1.77522345e-01,\n         -2.24088479e-01, -1.22950296e-01,  6.63624460e-02,\n         -4.32779002e-01,  7.97615200e-03,  1.70051091e-01,\n         -2.57548967e-01,  1.31160577e-01,  3.48267464e-01,\n          1.29774391e-01, -1.79993700e-01, -1.52682040e-01,\n         -1.29197200e-01, -3.28018443e-01, -1.07032969e-01,\n         -1.42107307e-01],\n        [ 2.30272923e-01, -2.53013390e-01, -1.17655780e-01,\n         -2.51132071e-01, -1.78900577e-01,  3.70941476e-01,\n         -3.00012635e-03, -1.28950124e-01, -6.97679619e-02,\n          2.29656435e-02,  6.21415918e-02,  5.95307400e-02,\n         -5.37730176e-01,  9.93534546e-03, -8.86490583e-03,\n          3.20826936e-01, -1.68514686e-01,  2.00857802e-01,\n         -2.36752978e-01,  2.30037008e-01, -1.82936892e-01,\n         -5.97568098e-02],\n        [ 2.80645769e-01,  3.48300331e-02,  1.25686668e-01,\n         -1.01586686e-01, -2.14302225e-02,  6.94917437e-02,\n         -2.21004671e-01, -4.18919297e-01, -1.88970965e-01,\n          1.21976056e-02, -1.08427371e-01,  1.89453968e-01,\n          9.47690529e-02, -2.69345822e-01, -9.87814631e-02,\n         -5.40684112e-01, -1.71838622e-01,  1.64800279e-01,\n         -1.37391670e-01, -1.68113742e-01,  8.75307219e-02,\n         -2.92679887e-01],\n        [-1.22667747e-01, -2.64870332e-01,  4.54897432e-01,\n         -2.11098058e-01, -2.73367038e-01,  6.05564052e-03,\n          3.51539126e-01,  1.37177678e-01,  1.10611190e-02,\n          1.13351564e-01,  4.01098845e-01,  3.85953605e-01,\n          9.47427686e-02, -7.22676462e-02, -3.99675781e-02,\n          2.26241436e-02,  6.27246804e-02,  2.87673678e-02,\n          2.19090904e-01, -1.02077824e-01,  4.59833528e-02,\n         -2.04259656e-01],\n        [-3.04817097e-01,  1.59533696e-02,  1.50668612e-01,\n         -3.43389393e-01,  1.08217715e-01,  8.09678266e-02,\n         -2.74099918e-01,  4.31766962e-02, -2.85091127e-01,\n          3.68760055e-02,  5.28554065e-02, -3.11073593e-01,\n         -3.31305504e-01, -1.08363711e-05, -1.93251080e-01,\n         -1.84540383e-02, -1.79412854e-03,  1.42636757e-01,\n          2.87265245e-01, -3.34243283e-01,  2.74067629e-01,\n          2.27165824e-01],\n        [ 1.30155659e-01,  3.02197046e-01, -1.35393333e-01,\n         -2.17805616e-01, -1.54473585e-02,  1.64949153e-01,\n          8.44673326e-03,  4.76194112e-01,  1.04385868e-01,\n         -2.40873025e-01,  1.27578022e-01,  1.94672096e-01,\n          1.34454659e-02, -2.97991415e-01,  2.07010451e-01,\n         -1.94306048e-01, -3.75323695e-01,  3.33586280e-02,\n          6.33576970e-02,  1.56206037e-01,  1.83148415e-01,\n          2.73990536e-01],\n        [-3.81420457e-01, -5.03149250e-02, -9.14336695e-02,\n         -5.18868338e-01,  9.52074746e-02, -1.77965514e-01,\n         -7.35939427e-02,  1.77797981e-01,  1.81927236e-01,\n          9.02026766e-02,  7.97079948e-02, -1.54042307e-01,\n          5.06587505e-02,  8.49798456e-02, -2.80130434e-02,\n         -2.91232003e-01,  4.80353325e-03, -8.77295576e-02,\n         -4.43625616e-01,  1.34580062e-01, -2.35243818e-01,\n         -2.27943375e-01],\n        [ 2.10278475e-01,  7.40233692e-02,  5.84362432e-02,\n         -5.49734483e-02, -2.22827400e-01, -1.78610866e-02,\n          6.88303133e-02, -1.17979539e-02, -2.11804230e-01,\n         -1.68220357e-02,  2.18912339e-01, -5.36989456e-01,\n          1.64233567e-01, -9.21394716e-02,  2.27362452e-01,\n         -9.14331559e-02, -1.27079989e-01,  1.85879253e-02,\n          2.79309530e-01, -4.18497321e-02, -5.61590366e-01,\n         -2.08474291e-02],\n        [ 1.11247935e-01,  2.04529018e-01,  1.69729020e-01,\n         -1.67637209e-01,  3.74700168e-01,  3.73383944e-01,\n         -5.81268778e-02, -2.01320114e-02,  1.39426503e-01,\n          4.76535496e-02, -1.35337949e-01,  1.55979737e-01,\n         -7.68675077e-02,  2.79956136e-01, -6.86920835e-02,\n         -1.60748947e-02, -9.56470405e-02, -4.66183098e-01,\n          3.53285421e-01,  2.01011404e-02, -2.25430361e-01,\n         -2.21710511e-01],\n        [ 1.08886772e-01, -8.37123669e-02, -1.44963410e-01,\n         -3.13936434e-01,  5.63150993e-02, -2.19667025e-01,\n          1.13670189e-01, -2.83238709e-01,  7.33493238e-02,\n         -1.48701663e-01, -3.88003969e-02, -9.54456461e-02,\n         -2.00265897e-01, -3.06918147e-01,  3.90572480e-01,\n          3.01810783e-03,  3.81861303e-01, -2.66100655e-01,\n          2.35390720e-01,  1.83291279e-01,  2.65164582e-01,\n         -1.26815662e-01],\n        [ 2.92849472e-01, -2.30998407e-01,  3.37658571e-01,\n          8.27730024e-02,  2.30329106e-01, -1.07748658e-01,\n         -9.28804391e-02,  4.91246185e-01, -3.31441519e-01,\n         -6.39562732e-02, -1.85621570e-01, -1.08171404e-01,\n         -7.50338960e-02,  1.66948621e-01,  3.20205472e-01,\n         -2.83520434e-03,  4.71704347e-02,  4.84875196e-02,\n         -1.67880772e-01,  2.95931060e-02,  1.50585532e-01,\n         -2.70092147e-01],\n        [ 6.08086670e-02,  1.05175363e-01,  1.89610440e-01,\n          1.67923304e-01, -1.07506434e-01,  2.14166240e-01,\n         -1.46530743e-01, -1.39826531e-01, -1.50671938e-01,\n          8.58445144e-02,  5.25447157e-01, -1.79521824e-01,\n          1.49699497e-02,  1.06429383e-01,  8.43273105e-03,\n         -9.43446727e-02,  6.28646449e-02, -4.53989831e-01,\n         -3.11821512e-01,  2.27842876e-01,  2.90597268e-01,\n          1.41684778e-01],\n        [ 2.81716016e-01,  1.11994544e-01, -1.78285962e-01,\n          1.49751165e-01,  1.67898431e-01, -1.17316412e-01,\n         -2.01015009e-01,  2.38226699e-01,  2.76985452e-01,\n          1.54333350e-01,  3.81972041e-01, -4.09393221e-02,\n         -2.06942822e-01, -3.21700786e-01, -1.85491052e-01,\n          1.53607728e-01,  1.46586578e-01, -4.08777702e-02,\n         -6.13520413e-02, -3.91533416e-01, -5.98414603e-02,\n         -2.80232949e-01],\n        [-2.10102274e-01, -1.78835792e-01, -2.48771506e-01,\n          7.01639651e-02, -9.06233681e-02,  1.38191059e-01,\n          2.78652453e-02,  1.80853906e-01, -4.81675135e-01,\n         -2.85872395e-01, -1.37836069e-01,  5.86903009e-02,\n          9.85705616e-02, -3.61721703e-01, -3.04662864e-01,\n          1.05488351e-01,  2.94589393e-03, -4.18118321e-01,\n         -2.92117387e-02, -2.17350093e-02, -9.67624434e-02,\n         -1.73398296e-01],\n        [-2.22595762e-01,  3.11784588e-01,  1.09703192e-01,\n          3.33719643e-01, -8.28134255e-02,  9.07904211e-02,\n          3.68188374e-01,  8.80995065e-02,  5.47504325e-02,\n         -3.44460082e-02, -7.65638547e-02, -2.16856031e-01,\n         -4.34544842e-01, -8.68090571e-02, -1.59490560e-01,\n         -2.99577807e-01,  4.56352230e-02,  1.51885063e-01,\n          6.39499924e-02,  2.55013738e-01,  5.85410786e-02,\n         -3.24176797e-01],\n        [ 6.39296704e-02,  1.64426357e-01,  2.17037053e-01,\n         -1.42867310e-01, -2.16218612e-02,  3.63829792e-01,\n         -1.08648940e-01,  2.27088724e-02,  1.66665208e-01,\n         -5.05954055e-01, -1.10028513e-02, -1.04114511e-01,\n          2.62351472e-01, -2.80310950e-02, -1.35440591e-01,\n          1.24282450e-01,  5.18305226e-01,  2.65549372e-01,\n         -1.23061063e-01,  2.00415016e-02, -5.09544506e-02,\n         -2.77503713e-02]]))"
     },
     "metadata": {},
     "output_type": "execute_result",
     "execution_count": 12
    }
   ],
   "source": [
    "rand_cov = np.cov(rand_mat, rowvar=True)\n",
    "rand_corr = np.corrcoef(rand_mat, rowvar=True)\n",
    "eig_corr, eigVec_corr = np.linalg.eig(rand_corr)\n",
    "eig_corr, eigVec_corr\n"
   ],
   "metadata": {
    "collapsed": false,
    "pycharm": {
     "name": "#%%\n",
     "is_executing": false
    }
   }
  }
 ],
 "metadata": {
  "language_info": {
   "codemirror_mode": {
    "name": "ipython",
    "version": 2
   },
   "file_extension": ".py",
   "mimetype": "text/x-python",
   "name": "python",
   "nbconvert_exporter": "python",
   "pygments_lexer": "ipython2",
   "version": "2.7.6"
  },
  "kernelspec": {
   "name": "python3",
   "language": "python",
   "display_name": "Python 3"
  },
  "pycharm": {
   "stem_cell": {
    "cell_type": "raw",
    "source": [],
    "metadata": {
     "collapsed": false
    }
   }
  }
 },
 "nbformat": 4,
 "nbformat_minor": 0
}